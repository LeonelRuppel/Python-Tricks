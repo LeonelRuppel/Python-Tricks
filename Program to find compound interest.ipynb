{
 "cells": [
  {
   "cell_type": "markdown",
   "id": "5b79e1f9",
   "metadata": {},
   "source": [
    "## Program to find compound interest"
   ]
  },
  {
   "cell_type": "code",
   "execution_count": 1,
   "id": "6f471557",
   "metadata": {},
   "outputs": [
    {
     "name": "stdout",
     "output_type": "stream",
     "text": [
      "Enter Principle Value : 10000\n",
      "Enter Rate Value : 10.5\n",
      "Enter Time Value : 3\n",
      "Compound interest is 3492.32625\n"
     ]
    }
   ],
   "source": [
    "#Python program to find compound interest\n",
    "\n",
    "def compound_interest(principle, rate, time):\n",
    "    \n",
    "    #Calculates compound interest\n",
    "    Amount = principle * (pow((1 + rate / 100), time))\n",
    "    CI = Amount - principle\n",
    "    print (\"Compound interest is\", CI)\n",
    "\n",
    "P = float(input(\"Enter Principle Value : \"))\n",
    "R = float(input(\"Enter Rate Value : \"))\n",
    "T = float(input(\"Enter Time Value : \"))\n",
    "compound_interest(P,R,T)\n",
    "    "
   ]
  },
  {
   "cell_type": "code",
   "execution_count": null,
   "id": "4a4dbfb5",
   "metadata": {},
   "outputs": [],
   "source": []
  }
 ],
 "metadata": {
  "kernelspec": {
   "display_name": "Python 3 (ipykernel)",
   "language": "python",
   "name": "python3"
  },
  "language_info": {
   "codemirror_mode": {
    "name": "ipython",
    "version": 3
   },
   "file_extension": ".py",
   "mimetype": "text/x-python",
   "name": "python",
   "nbconvert_exporter": "python",
   "pygments_lexer": "ipython3",
   "version": "3.9.7"
  }
 },
 "nbformat": 4,
 "nbformat_minor": 5
}
