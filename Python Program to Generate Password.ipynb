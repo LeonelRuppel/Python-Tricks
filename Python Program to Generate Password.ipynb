{
 "cells": [
  {
   "cell_type": "markdown",
   "id": "2c8d5cb3",
   "metadata": {},
   "source": [
    "## Python Program to Generate Password"
   ]
  },
  {
   "cell_type": "code",
   "execution_count": 2,
   "id": "9c237fb2",
   "metadata": {},
   "outputs": [
    {
     "name": "stdout",
     "output_type": "stream",
     "text": [
      "Enter the length of password : 5\n",
      "EdbZ&\n"
     ]
    }
   ],
   "source": [
    "#import random module\n",
    "import random\n",
    "\n",
    "#User input for password lenght\n",
    "passlen = int(input(\"Enter the length of password : \"))\n",
    "\n",
    "#storing letters, numbers and special characters\n",
    "s = \"abcdefghijklmnopqrstuvwxyz01234567890ABCDEFGHIJKLMNOPQRSTUVWXYZ!@#$%^&*?\"\n",
    "\n",
    "#random sampling by joining the length of the password and the variable s\n",
    "p = \"\".join(random.sample(s,passlen ))\n",
    "print(p)"
   ]
  }
 ],
 "metadata": {
  "kernelspec": {
   "display_name": "Python 3 (ipykernel)",
   "language": "python",
   "name": "python3"
  },
  "language_info": {
   "codemirror_mode": {
    "name": "ipython",
    "version": 3
   },
   "file_extension": ".py",
   "mimetype": "text/x-python",
   "name": "python",
   "nbconvert_exporter": "python",
   "pygments_lexer": "ipython3",
   "version": "3.9.7"
  }
 },
 "nbformat": 4,
 "nbformat_minor": 5
}
