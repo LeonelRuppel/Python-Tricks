{
 "cells": [
  {
   "cell_type": "markdown",
   "id": "58d4c8b7",
   "metadata": {},
   "source": [
    "## Spelling Correction with Python"
   ]
  },
  {
   "cell_type": "code",
   "execution_count": 3,
   "id": "046b1196",
   "metadata": {},
   "outputs": [
    {
     "name": "stdout",
     "output_type": "stream",
     "text": [
      "Enter your word : \n",
      "  @media print {\n",
      "    .ms-editor-squiggles-container {\n",
      "      display:none !important;\n",
      "    }\n",
      "  }\n",
      "  .ms-editor-squiggles-container {\n",
      "    all: initial;\n",
      "  }machien langugae\n",
      "Wrong words : ['machien', 'langugae']\n",
      "Corrected words are :\n",
      "machine language "
     ]
    }
   ],
   "source": [
    "from textblob import TextBlob\n",
    "def Convert (string):\n",
    "    li = list (string.split())\n",
    "    return li\n",
    "str1 = input(\"Enter your word : \")\n",
    "words = Convert (str1)\n",
    "corrected_words = []\n",
    "for i in words:\n",
    "    corrected_words.append(TextBlob(i))\n",
    "print(\"Wrong words :\", words)\n",
    "print(\"Corrected words are :\")\n",
    "for i in corrected_words:\n",
    "    print(i.correct(), end = \" \")"
   ]
  },
  {
   "cell_type": "code",
   "execution_count": null,
   "id": "3ae9d769",
   "metadata": {},
   "outputs": [],
   "source": []
  }
 ],
 "metadata": {
  "kernelspec": {
   "display_name": "Python 3 (ipykernel)",
   "language": "python",
   "name": "python3"
  },
  "language_info": {
   "codemirror_mode": {
    "name": "ipython",
    "version": 3
   },
   "file_extension": ".py",
   "mimetype": "text/x-python",
   "name": "python",
   "nbconvert_exporter": "python",
   "pygments_lexer": "ipython3",
   "version": "3.9.7"
  }
 },
 "nbformat": 4,
 "nbformat_minor": 5
}
